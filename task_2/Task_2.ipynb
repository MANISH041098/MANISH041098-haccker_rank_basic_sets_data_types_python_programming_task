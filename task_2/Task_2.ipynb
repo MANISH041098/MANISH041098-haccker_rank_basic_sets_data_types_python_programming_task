{
 "cells": [
  {
   "cell_type": "code",
   "execution_count": null,
   "id": "e5a85e3d",
   "metadata": {},
   "outputs": [],
   "source": [
    "#1 question\n",
    "x = int(input())\n",
    "y = int(input())\n",
    "z = int(input())\n",
    "n = int(input())\n",
    "a = []\n",
    "    \n",
    "for i in range(0,x+1):\n",
    "    for j in range(0,y+1):\n",
    "        for k in range(0,z+1):\n",
    "            if (i+j+k != n):\n",
    "                a.append([i,j,k])\n",
    "\n",
    "print(a)"
   ]
  },
  {
   "cell_type": "code",
   "execution_count": null,
   "id": "76a2df98",
   "metadata": {},
   "outputs": [],
   "source": [
    "#2 question\n",
    "    n = int(input())\n",
    "    student_marks = {}\n",
    "    for _ in range(n):\n",
    "        name, *line = input().split()\n",
    "        scores = list(map(float, line))\n",
    "        student_marks[name] = scores\n",
    "    query_name = input()\n",
    "    aver = sum(student_marks[query_name])/len(student_marks[query_name])\n",
    "    print(\"%.2f\"%aver)"
   ]
  },
  {
   "cell_type": "code",
   "execution_count": null,
   "id": "2a4491d6",
   "metadata": {},
   "outputs": [],
   "source": [
    "#3 question\n",
    "    students = []\n",
    "    records = []\n",
    "    lowest_students = []\n",
    "    for _ in range(int(input())):\n",
    "        name = input()\n",
    "        score = float(input())\n",
    "        students.append([name,score])\n",
    "        records.append(score)\n",
    "    \n",
    "    records=list(set(records))\n",
    "    records.sort()\n",
    "    lowest = records[1]\n",
    "    for i in range(len(students)):\n",
    "        if  students[i][1] == lowest:\n",
    "            lowest_students.append(students[i][0])\n",
    "    lowest_students.sort()\n",
    "    for j in lowest_students:\n",
    "        print(j) "
   ]
  },
  {
   "cell_type": "code",
   "execution_count": null,
   "id": "721549e9",
   "metadata": {},
   "outputs": [],
   "source": [
    "#4 question\n",
    "    n = int(input())\n",
    "    arr = map(int, input().split())\n",
    "    x = list(arr)\n",
    "    x.sort()\n",
    "    a = x.index(max(x))\n",
    "    print(x[a - 1])\n",
    "    "
   ]
  },
  {
   "cell_type": "code",
   "execution_count": null,
   "id": "4f5a3650",
   "metadata": {},
   "outputs": [],
   "source": [
    "#5 question\n",
    "for i in range(0,x+1):\n",
    "    for j in range(0,y+1):\n",
    "        for k in range(0,z+1):\n",
    "            if (i+j+k != n):\n",
    "                a.append([i,j,k])\n",
    "\n",
    "print(a)\n"
   ]
  },
  {
   "cell_type": "code",
   "execution_count": null,
   "id": "a49b0d5b",
   "metadata": {},
   "outputs": [],
   "source": [
    "#6 question\n",
    "for _ in range(N):\n",
    "    input_list = input().split()  \n",
    "    if input_list[0] == 'insert': \n",
    "        list.insert(int(input_list[1]),int(input_list[2]))\n",
    "    elif input_list[0] == 'print':\n",
    "        print(list)\n",
    "    elif input_list[0] == 'remove':\n",
    "        list.remove(int(input_list[1]))\n",
    "    elif input_list[0] == 'append':\n",
    "        list.append(int(input_list[1]))\n",
    "    elif input_list[0] == 'sort':\n",
    "        list.sort()\n",
    "    elif input_list[0] == 'pop':\n",
    "        list.pop()\n",
    "    elif input_list[0] == 'reverse':\n",
    "        list.reverse()"
   ]
  },
  {
   "cell_type": "code",
   "execution_count": null,
   "id": "1a8eea64",
   "metadata": {},
   "outputs": [],
   "source": [
    "#7 question\n",
    "n = int(input())\n",
    "integer_list = map(int, input().split())\n",
    "print(hash(tuple(integer_list)))"
   ]
  },
  {
   "cell_type": "code",
   "execution_count": null,
   "id": "fbd5ca2c",
   "metadata": {},
   "outputs": [],
   "source": [
    "#8 question\n",
    "n,m = map(int,input().split())\n",
    "array = list(map(int,input().split()))\n",
    "a = set(map(int,input().split()))\n",
    "b = set(map(int,input().split()))\n",
    "happiness = 0\n",
    "for i in array:\n",
    "    if i in a:\n",
    "        happiness += 1\n",
    "    elif i in b:\n",
    "        happiness -= 1\n",
    "    \n",
    "print(happiness)\n"
   ]
  },
  {
   "cell_type": "code",
   "execution_count": null,
   "id": "79fe083a",
   "metadata": {},
   "outputs": [],
   "source": [
    "#9 question\n",
    "m = int(input())\n",
    "a = set(map(int,input().split()))\n",
    "n = int(input())\n",
    "b = set(map(int,input().split()))\n",
    "c = []\n",
    "for i in (a.difference(b)):\n",
    "    c.append(i)\n",
    "for i in (b.difference(a)):\n",
    "    c.append(i)\n",
    "    \n",
    "for i in sorted(c):\n",
    "    print(i)"
   ]
  },
  {
   "cell_type": "code",
   "execution_count": null,
   "id": "ac087d20",
   "metadata": {},
   "outputs": [],
   "source": [
    "#10 question\n",
    "n = int(input())\n",
    "a = set()\n",
    "for i in range(0,n):\n",
    "    a.add(input())\n",
    "    \n",
    "print(len(a))"
   ]
  },
  {
   "cell_type": "code",
   "execution_count": null,
   "id": "21784410",
   "metadata": {},
   "outputs": [],
   "source": [
    "#11 question\n",
    "n = int(input())\n",
    "n_roll = set(map(int,input().split()))\n",
    "b = int(input())\n",
    "b_roll = set(map(int,input().split()))\n",
    "\n",
    "print(len(n_roll.union(b_roll)))\n"
   ]
  },
  {
   "cell_type": "code",
   "execution_count": null,
   "id": "274f005d",
   "metadata": {},
   "outputs": [],
   "source": [
    "#12 question\n",
    "n = int(input())\n",
    "n_roll = set(map(int,input().split()))\n",
    "b = int(input())\n",
    "b_roll = set(map(int,input().split()))\n",
    "\n",
    "print(len(n_roll.intersection(b_roll)))"
   ]
  },
  {
   "cell_type": "code",
   "execution_count": null,
   "id": "7a60b18d",
   "metadata": {},
   "outputs": [],
   "source": [
    "#13 question\n",
    "n = int(input())\n",
    "n_roll = set(map(int,input().split()))\n",
    "b = int(input())\n",
    "b_roll = set(map(int,input().split()))\n",
    "\n",
    "print(len(n_roll.difference(b_roll)))"
   ]
  },
  {
   "cell_type": "code",
   "execution_count": null,
   "id": "a35dfb13",
   "metadata": {},
   "outputs": [],
   "source": [
    "#14 question\n",
    "n = int(input())\n",
    "n_roll = set(map(int,input().split()))\n",
    "b = int(input())\n",
    "b_roll = set(map(int,input().split()))\n",
    "\n",
    "print(len(n_roll.symmetric_difference(b_roll)))"
   ]
  },
  {
   "cell_type": "code",
   "execution_count": null,
   "id": "9d5ceb29",
   "metadata": {},
   "outputs": [],
   "source": [
    "#15 question\n",
    "a = int(input())\n",
    "a_set = set(map(int,input().split()))\n",
    "n = int(input())\n",
    "\n",
    "for i in range(n):\n",
    "    operation = input().split()\n",
    "    if operation[0] == \"intersection_update\":\n",
    "        x = set(map(int,input().split()))\n",
    "        a_set.intersection_update(x)\n",
    "    elif operation[0] == \"update\":\n",
    "        y = set(map(int,input().split()))\n",
    "        a_set.update(y)\n",
    "    elif operation[0] == \"symmetric_difference_update\":\n",
    "        z = set(map(int,input().split()))\n",
    "        a_set.symmetric_difference_update(z)\n",
    "    elif operation[0] == \"difference_update\":\n",
    "        u = set(map(int,input().split()))\n",
    "        a_set.difference_update(u)\n",
    "        \n",
    "print(sum(a_set))"
   ]
  },
  {
   "cell_type": "code",
   "execution_count": null,
   "id": "a273c3d8",
   "metadata": {},
   "outputs": [],
   "source": [
    "#16 question\n",
    "size = int(input())\n",
    "k = list(map(int,input().split()))\n",
    "a = set()\n",
    "b = set()\n",
    "\n",
    "for i in k:\n",
    "    if i in a:\n",
    "        b.add(i)\n",
    "    else:\n",
    "        a.add(i)\n",
    "        \n",
    "s = a.difference(b)\n",
    "for i in s:\n",
    "    print(i)"
   ]
  },
  {
   "cell_type": "code",
   "execution_count": null,
   "id": "bcc8f4e7",
   "metadata": {},
   "outputs": [],
   "source": [
    "#17 question\n",
    "n = int(input())\n",
    "for i in range(n):\n",
    "    a = int(input())\n",
    "    a_set = set(map(int,input().split()))\n",
    "    b = int(input())\n",
    "    b_set = set(map(int,input().split()))  \n",
    "    if a_set.issubset(b_set):\n",
    "        print(\"True\")  \n",
    "    else:\n",
    "        print(\"False\")"
   ]
  },
  {
   "cell_type": "code",
   "execution_count": null,
   "id": "f6268aad",
   "metadata": {},
   "outputs": [],
   "source": [
    "#18 question\n",
    "set_a = set(map(int,(input().split())))\n",
    "n = int(input())\n",
    "a = set()\n",
    "for i in range(n):\n",
    "    a = a.union(set(map(int,(input().split()))))\n",
    "    \n",
    "if set_a.issuperset(a):\n",
    "    print(\"True\")\n",
    "else:\n",
    "    print(\"False\")"
   ]
  },
  {
   "cell_type": "code",
   "execution_count": null,
   "id": "a54e312b",
   "metadata": {},
   "outputs": [],
   "source": []
  }
 ],
 "metadata": {
  "kernelspec": {
   "display_name": "Python 3 (ipykernel)",
   "language": "python",
   "name": "python3"
  },
  "language_info": {
   "codemirror_mode": {
    "name": "ipython",
    "version": 3
   },
   "file_extension": ".py",
   "mimetype": "text/x-python",
   "name": "python",
   "nbconvert_exporter": "python",
   "pygments_lexer": "ipython3",
   "version": "3.9.7"
  }
 },
 "nbformat": 4,
 "nbformat_minor": 5
}
